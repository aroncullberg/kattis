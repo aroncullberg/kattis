{
 "cells": [
  {
   "cell_type": "code",
   "execution_count": 22,
   "id": "3337e029-7989-4698-a34a-b4a8755c85cd",
   "metadata": {},
   "outputs": [],
   "source": [
    "import sys"
   ]
  },
  {
   "cell_type": "code",
   "execution_count": 19,
   "id": "bf635339-0308-453f-a3be-a977ec889741",
   "metadata": {},
   "outputs": [
    {
     "name": "stdin",
     "output_type": "stream",
     "text": [
      " 3 5\n"
     ]
    }
   ],
   "source": [
    "N, Q = map(int, input().split())\n"
   ]
  },
  {
   "cell_type": "code",
   "execution_count": 36,
   "id": "aea78fd3-0b10-4742-9ce9-c3a656e906cc",
   "metadata": {},
   "outputs": [],
   "source": [
    "accounts = [0] * N\n",
    "versions = [0] * N\n",
    "default_value = 0\n",
    "version = 1"
   ]
  },
  {
   "cell_type": "code",
   "execution_count": 37,
   "id": "69d8789f-99d9-440f-9573-8703042c30fb",
   "metadata": {},
   "outputs": [
    {
     "ename": "IndexError",
     "evalue": "list index out of range",
     "output_type": "error",
     "traceback": [
      "\u001b[31m---------------------------------------------------------------------------\u001b[39m",
      "\u001b[31mIndexError\u001b[39m                                Traceback (most recent call last)",
      "\u001b[36mCell\u001b[39m\u001b[36m \u001b[39m\u001b[32mIn[37]\u001b[39m\u001b[32m, line 3\u001b[39m\n\u001b[32m      1\u001b[39m \u001b[38;5;28;01mfor\u001b[39;00m _ \u001b[38;5;129;01min\u001b[39;00m \u001b[38;5;28mrange\u001b[39m(Q):\n\u001b[32m      2\u001b[39m     line = sys.stdin.readline().split()\n\u001b[32m----> \u001b[39m\u001b[32m3\u001b[39m     \u001b[38;5;28;01mif\u001b[39;00m \u001b[43mline\u001b[49m\u001b[43m[\u001b[49m\u001b[32;43m0\u001b[39;49m\u001b[43m]\u001b[49m == \u001b[33m\"\u001b[39m\u001b[33mSET\u001b[39m\u001b[33m\"\u001b[39m:\n\u001b[32m      4\u001b[39m         account = \u001b[38;5;28mint\u001b[39m(line[\u001b[32m1\u001b[39m]) - \u001b[32m1\u001b[39m\n\u001b[32m      5\u001b[39m         new_balance = \u001b[38;5;28mint\u001b[39m(line[\u001b[32m2\u001b[39m])\n",
      "\u001b[31mIndexError\u001b[39m: list index out of range"
     ]
    }
   ],
   "source": [
    "for _ in range(Q):\n",
    "    line = sys.stdin.readline().split()\n",
    "    if line[0] == \"SET\":\n",
    "        account = int(line[1]) - 1\n",
    "        new_balance = int(line[2])\n",
    "        accounts[account] = int(new_balance)\n",
    "        versions[account] = version\n",
    "    if line[0] == \"PRINT\":\n",
    "        account = int(line[1]) - 1\n",
    "        if timestamps[account] == version:\n",
    "            print(accounts[account])\n",
    "        else:\n",
    "            print(default_value)\n",
    "    if line[0] == \"RESTART\":\n",
    "        default_value = int(line[1])\n",
    "        version += 1"
   ]
  },
  {
   "cell_type": "code",
   "execution_count": 34,
   "id": "3665178b-bf64-4bc2-8243-7b5f3dad5962",
   "metadata": {},
   "outputs": [
    {
     "ename": "SyntaxError",
     "evalue": "unterminated triple-quoted string literal (detected at line 38) (2098757435.py, line 38)",
     "output_type": "error",
     "traceback": [
      "  \u001b[36mCell\u001b[39m\u001b[36m \u001b[39m\u001b[32mIn[34]\u001b[39m\u001b[32m, line 38\u001b[39m\n\u001b[31m    \u001b[39m\u001b[31m\"\"\"\u001b[39m\n    ^\n\u001b[31mSyntaxError\u001b[39m\u001b[31m:\u001b[39m unterminated triple-quoted string literal (detected at line 38)\n"
     ]
    }
   ],
   "source": [
    "#tried this but it no workie\n",
    "\n",
    "\n",
    "\"\"\"\n",
    "#include <iostream>\n",
    "#include <vector>\n",
    "#include <algorithm>\n",
    "using namespace std;\n",
    "int main() {\n",
    "    ios::sync_with_stdio(false);\n",
    "    cin.tie(nullptr);\n",
    "    \n",
    "    int N, Q;\n",
    "    cin >> N >> Q;\n",
    "    \n",
    "    vector<int> accounts(N, 0);\n",
    "    \n",
    "    for (int q = 0; q < Q; ++q) {\n",
    "        string cmd;\n",
    "        cin >> cmd;\n",
    "        \n",
    "        \n",
    "        if (cmd == \"SET\") {\n",
    "            int i, x;\n",
    "            cin >> i >> x;\n",
    "            accounts[i - 1] = x;\n",
    "        } else if (cmd == \"RESTART\") {\n",
    "            int x;\n",
    "            cin >> x;\n",
    "            fill(accounts.begin(), accounts.end(), x);\n",
    "        } else if (cmd == \"PRINT\") {\n",
    "            int i;\n",
    "            cin >> i;\n",
    "            cout << accounts[i - 1] << '\\n';\n",
    "        }\n",
    "    }\n",
    "    return 0;\n",
    "}\n",
    "\n",
    "\"\"\""
   ]
  }
 ],
 "metadata": {
  "kernelspec": {
   "display_name": "Python 3 (ipykernel) *",
   "language": "python",
   "name": "conda-base-py"
  },
  "language_info": {
   "codemirror_mode": {
    "name": "ipython",
    "version": 3
   },
   "file_extension": ".py",
   "mimetype": "text/x-python",
   "name": "python",
   "nbconvert_exporter": "python",
   "pygments_lexer": "ipython3",
   "version": "3.12.10"
  }
 },
 "nbformat": 4,
 "nbformat_minor": 5
}
