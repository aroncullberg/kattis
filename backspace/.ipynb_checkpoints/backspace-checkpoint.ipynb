{
 "cells": [
  {
   "cell_type": "code",
   "execution_count": null,
   "id": "e5db5b74-bc8e-4ca7-bd89-64e7c2a81203",
   "metadata": {},
   "outputs": [],
   "source": [
    "s = input().strip()\n",
    "out = []"
   ]
  },
  {
   "cell_type": "code",
   "execution_count": null,
   "id": "1c476c39-a529-46ee-b850-c80158d4a5ce",
   "metadata": {},
   "outputs": [],
   "source": [
    "[ out.pop() if ch == '<' and out else out.append(ch) for ch in s ]"
   ]
  },
  {
   "cell_type": "code",
   "execution_count": null,
   "id": "b0c9742a-4684-4c47-be0a-f69c03d40b6a",
   "metadata": {},
   "outputs": [],
   "source": [
    "print(''.join(out))"
   ]
  }
 ],
 "metadata": {
  "kernelspec": {
   "display_name": "Python 3 (ipykernel) *",
   "language": "python",
   "name": "conda-base-py"
  },
  "language_info": {
   "codemirror_mode": {
    "name": "ipython",
    "version": 3
   },
   "file_extension": ".py",
   "mimetype": "text/x-python",
   "name": "python",
   "nbconvert_exporter": "python",
   "pygments_lexer": "ipython3",
   "version": "3.12.10"
  }
 },
 "nbformat": 4,
 "nbformat_minor": 5
}
