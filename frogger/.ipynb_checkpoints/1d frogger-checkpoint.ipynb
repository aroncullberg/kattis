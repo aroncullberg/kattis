{
 "cells": [
  {
   "cell_type": "code",
   "execution_count": 112,
   "id": "cecc4d15-16be-4cd3-ba54-7adfe67dfa46",
   "metadata": {},
   "outputs": [
    {
     "name": "stdin",
     "output_type": "stream",
     "text": [
      " 6 4 42\n"
     ]
    }
   ],
   "source": [
    "board_length, start_square, magic_square = map(int, input().split())"
   ]
  },
  {
   "cell_type": "code",
   "execution_count": 110,
   "id": "dcc6c68c-c504-4a53-b7a8-3eead4bafa82",
   "metadata": {},
   "outputs": [
    {
     "name": "stdin",
     "output_type": "stream",
     "text": [
      " 7 5 4 2 13 -2 -3 6\n"
     ]
    }
   ],
   "source": [
    "board = list(map(int, input().split()))"
   ]
  },
  {
   "cell_type": "code",
   "execution_count": 118,
   "id": "f415ff3d-0998-4b32-9bda-071286411217",
   "metadata": {},
   "outputs": [
    {
     "name": "stdout",
     "output_type": "stream",
     "text": [
      "magic\n",
      "2\n"
     ]
    }
   ],
   "source": [
    "current_square = start_square - 1\n",
    "hops = 0\n",
    "visited = set()\n",
    "while True:\n",
    "    if current_square < 0:\n",
    "        print(\"left\")\n",
    "        break\n",
    "    if current_square >= board_length:\n",
    "        print(\"right\")\n",
    "        break\n",
    "    if board[current_square] == magic_square:\n",
    "        print(\"magic\")\n",
    "        break\n",
    "    if current_square in visited:\n",
    "        print(\"cycle\")\n",
    "        break\n",
    "    \n",
    "    visited.add(current_square)\n",
    "    current_square += board[current_square]\n",
    "    hops += 1    \n",
    "    \n",
    "print(hops)"
   ]
  }
 ],
 "metadata": {
  "kernelspec": {
   "display_name": "Python 3 (ipykernel) *",
   "language": "python",
   "name": "conda-base-py"
  },
  "language_info": {
   "codemirror_mode": {
    "name": "ipython",
    "version": 3
   },
   "file_extension": ".py",
   "mimetype": "text/x-python",
   "name": "python",
   "nbconvert_exporter": "python",
   "pygments_lexer": "ipython3",
   "version": "3.12.10"
  }
 },
 "nbformat": 4,
 "nbformat_minor": 5
}
