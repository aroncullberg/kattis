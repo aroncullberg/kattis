{
 "cells": [
  {
   "cell_type": "code",
   "execution_count": 9,
   "id": "6129eb26-ffa8-4f87-be7a-e78038c24c8d",
   "metadata": {},
   "outputs": [
    {
     "name": "stdin",
     "output_type": "stream",
     "text": [
      " cat dog\n"
     ]
    },
    {
     "name": "stdout",
     "output_type": "stream",
     "text": [
      "cat dog\n"
     ]
    },
    {
     "name": "stdin",
     "output_type": "stream",
     "text": [
      " \n",
      " dog\n"
     ]
    },
    {
     "name": "stdout",
     "output_type": "stream",
     "text": [
      "cat\n"
     ]
    },
    {
     "name": "stdin",
     "output_type": "stream",
     "text": [
      " poop\n"
     ]
    },
    {
     "name": "stdout",
     "output_type": "stream",
     "text": [
      "eh\n"
     ]
    },
    {
     "name": "stdin",
     "output_type": "stream",
     "text": [
      " \n"
     ]
    }
   ],
   "source": [
    "import sys\n",
    "ordbok = {}\n",
    "while True:\n",
    "    # line = sys.stdin.readline()\n",
    "    line = input()\n",
    "    if line == \"\":\n",
    "        break\n",
    "\n",
    "    word, key = line.split()\n",
    "    \n",
    "    ordbok[key] = word\n",
    "\n",
    "while True:\n",
    "    # key = sys.stdin.readline()\n",
    "    try:\n",
    "        key = input()\n",
    "        if key in ordbok:\n",
    "            print(ordbok[key])\n",
    "        else:\n",
    "            print(\"eh\")\n",
    "    except EOFError:\n",
    "        break"
   ]
  },
  {
   "cell_type": "code",
   "execution_count": null,
   "id": "28b80033-dd25-4086-af3e-b8ab0faaf046",
   "metadata": {},
   "outputs": [],
   "source": []
  }
 ],
 "metadata": {
  "kernelspec": {
   "display_name": "Python 3 (ipykernel) *",
   "language": "python",
   "name": "conda-base-py"
  },
  "language_info": {
   "codemirror_mode": {
    "name": "ipython",
    "version": 3
   },
   "file_extension": ".py",
   "mimetype": "text/x-python",
   "name": "python",
   "nbconvert_exporter": "python",
   "pygments_lexer": "ipython3",
   "version": "3.12.10"
  }
 },
 "nbformat": 4,
 "nbformat_minor": 5
}
