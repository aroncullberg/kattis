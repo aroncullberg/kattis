{
 "cells": [
  {
   "cell_type": "code",
   "execution_count": 8,
   "id": "86f7075f-5aa2-428e-8024-fb472437cc72",
   "metadata": {},
   "outputs": [],
   "source": [
    "from collections import Counter\n",
    "from math import gcd\n",
    "from functools import reduce\n",
    "from fractions import Fraction"
   ]
  },
  {
   "cell_type": "code",
   "execution_count": 9,
   "id": "421036ff-3075-474d-861f-a72415936356",
   "metadata": {},
   "outputs": [],
   "source": [
    "stdin = \"\"\"9 9 18\n",
    "1 1 2 3 2 3 2 3 4\n",
    "1 1 2 2 2 3 3 3 4\n",
    "1 1 1 1 2 2 2 2 3 1 1 1 1 2 2 2 2 3\n",
    "\"\"\""
   ]
  },
  {
   "cell_type": "code",
   "execution_count": 10,
   "id": "d74215c4-4df6-490a-8b3a-b72d04db772b",
   "metadata": {},
   "outputs": [],
   "source": [
    "#print(stdin.splitlines())\n",
    "A, B, C = [list(map(int, line.split())) for line in stdin.splitlines()[1:]]"
   ]
  },
  {
   "cell_type": "code",
   "execution_count": null,
   "id": "a79353bf-6b4e-4f0f-bb5b-b1cccaf07655",
   "metadata": {},
   "outputs": [],
   "source": [
    "print(f\"A: {A}\\nB: {B}\\n\\nC: {C}\\nD: [Unknown]\")"
   ]
  },
  {
   "cell_type": "code",
   "execution_count": 12,
   "id": "7423479b-879a-4a00-bf58-61d6debbb91f",
   "metadata": {},
   "outputs": [],
   "source": [
    "def histogram(dice1, dice2=None):\n",
    "    if dice2 == None:\n",
    "        return Counter(dice1)\n",
    "    return Counter([x + y for y in dice1 for x in dice2])\n"
   ]
  },
  {
   "cell_type": "code",
   "execution_count": 13,
   "id": "b22aae80-22da-4edf-bb20-b812aaea2234",
   "metadata": {},
   "outputs": [
    {
     "name": "stdout",
     "output_type": "stream",
     "text": [
      "Counter({5: 22, 4: 21, 6: 15, 3: 12, 7: 6, 2: 4, 8: 1})\n",
      "dict_keys([2, 3, 4, 5, 6, 7, 8])\n",
      "2\n"
     ]
    }
   ],
   "source": [
    "print(histogram(A, B))\n",
    "print(histogram(A, B).keys())\n",
    "print(min(histogram(A, B)))"
   ]
  },
  {
   "cell_type": "code",
   "execution_count": 14,
   "id": "c51c60b0-9915-4f85-92a3-1b554ae183a9",
   "metadata": {},
   "outputs": [
    {
     "name": "stdout",
     "output_type": "stream",
     "text": [
      "Counter({2: 3, 3: 3, 1: 2, 4: 1})\n",
      "dict_keys([1, 2, 3, 4]) True\n",
      "1\n"
     ]
    }
   ],
   "source": [
    "print(histogram(A))\n",
    "print(histogram(A).keys(), 4 in histogram(A).keys())\n",
    "print(min(histogram(A)))"
   ]
  },
  {
   "cell_type": "code",
   "execution_count": 15,
   "id": "810d1d0a-f61d-45f9-9860-01bc288e4010",
   "metadata": {},
   "outputs": [],
   "source": [
    "def print_probability_distribution_matrix(row, column):\n",
    "    print(\"   \" + \" \".join(str(c) for c in column))\n",
    "    for i in range(len(row)):\n",
    "        print(\"{0:2d}\".format(row[i]), \" \".join(str(row[i] + c) for c in column))\n"
   ]
  },
  {
   "cell_type": "code",
   "execution_count": 16,
   "id": "b404e271-c250-4829-b4d9-26c7beed31cc",
   "metadata": {},
   "outputs": [
    {
     "name": "stdout",
     "output_type": "stream",
     "text": [
      "   1 1 2 2 2 3 3 3 4\n",
      " 1 2 2 3 3 3 4 4 4 5\n",
      " 1 2 2 3 3 3 4 4 4 5\n",
      " 2 3 3 4 4 4 5 5 5 6\n",
      " 3 4 4 5 5 5 6 6 6 7\n",
      " 2 3 3 4 4 4 5 5 5 6\n",
      " 3 4 4 5 5 5 6 6 6 7\n",
      " 2 3 3 4 4 4 5 5 5 6\n",
      " 3 4 4 5 5 5 6 6 6 7\n",
      " 4 5 5 6 6 6 7 7 7 8\n"
     ]
    }
   ],
   "source": [
    "print_probability_distribution_matrix(A, B)"
   ]
  },
  {
   "cell_type": "code",
   "execution_count": 17,
   "id": "779f8842-e75c-438b-861b-725314e458ad",
   "metadata": {},
   "outputs": [
    {
     "data": {
      "text/plain": [
       "Counter({5: 22, 4: 21, 6: 15, 3: 12, 7: 6, 2: 4, 8: 1})"
      ]
     },
     "execution_count": 17,
     "metadata": {},
     "output_type": "execute_result"
    }
   ],
   "source": [
    "target = histogram(A,B)\n",
    "target"
   ]
  },
  {
   "cell_type": "code",
   "execution_count": 18,
   "id": "a948a56e-59ce-4eaf-a073-f7b06107ed3d",
   "metadata": {},
   "outputs": [
    {
     "data": {
      "text/plain": [
       "Counter({1: 8, 2: 8, 3: 2})"
      ]
     },
     "execution_count": 18,
     "metadata": {},
     "output_type": "execute_result"
    }
   ],
   "source": [
    "Cfreq = histogram(C)\n",
    "Cfreq"
   ]
  },
  {
   "cell_type": "code",
   "execution_count": 19,
   "id": "0f84edf7-9948-4c64-9054-f0cdeb520eec",
   "metadata": {},
   "outputs": [
    {
     "data": {
      "text/plain": [
       "1"
      ]
     },
     "execution_count": 19,
     "metadata": {},
     "output_type": "execute_result"
    }
   ],
   "source": [
    "Cmin = min(Cfreq)\n",
    "Cmin"
   ]
  },
  {
   "cell_type": "code",
   "execution_count": 20,
   "id": "23b4757e-a72e-4427-8016-9d18198029ab",
   "metadata": {},
   "outputs": [
    {
     "data": {
      "text/plain": [
       "Counter()"
      ]
     },
     "execution_count": 20,
     "metadata": {},
     "output_type": "execute_result"
    }
   ],
   "source": [
    "unknown_counts = Counter()\n",
    "unknown_counts"
   ]
  },
  {
   "cell_type": "code",
   "execution_count": 21,
   "id": "72788c1b-986d-4b32-b08e-ae3de1ce7cc7",
   "metadata": {},
   "outputs": [
    {
     "ename": "KeyboardInterrupt",
     "evalue": "",
     "output_type": "error",
     "traceback": [
      "\u001b[31m---------------------------------------------------------------------------\u001b[39m",
      "\u001b[31mKeyboardInterrupt\u001b[39m                         Traceback (most recent call last)",
      "\u001b[36mCell\u001b[39m\u001b[36m \u001b[39m\u001b[32mIn[21]\u001b[39m\u001b[32m, line 2\u001b[39m\n\u001b[32m      1\u001b[39m \u001b[38;5;28;01mwhile\u001b[39;00m target:\n\u001b[32m----> \u001b[39m\u001b[32m2\u001b[39m     s = \u001b[38;5;28;43mmin\u001b[39;49m\u001b[43m(\u001b[49m\u001b[43mtarget\u001b[49m\u001b[43m)\u001b[49m\n\u001b[32m      3\u001b[39m     \u001b[38;5;66;03m#print(s)\u001b[39;00m\n\u001b[32m      4\u001b[39m     k = target[s]\n",
      "\u001b[31mKeyboardInterrupt\u001b[39m: "
     ]
    }
   ],
   "source": [
    "while target:\n",
    "    s = min(target)\n",
    "    #print(s)\n",
    "    k = target[s]\n",
    "    #print(k)\n",
    "\n",
    "    how_many = k // Cfreq[Cmin]\n",
    "    #print(how_many)\n",
    "    d = s-Cmin\n",
    "    #print(d)\n",
    "    unknown_counts[d] += how_many\n",
    "    #print(\"unknown_counts\", unknown_counts)\n",
    "    \n",
    "    #print(\"target\", target)\n",
    "    for c, cnt in Cfreq.items():\n",
    "        t = c+d\n",
    "        target[t] -= cnt * how_many\n",
    "        #print(\"target\", target)\n",
    "        if target[t] == 0:\n",
    "            del target[t]\n",
    "            #print(\"target\", target)\n",
    "print(\"done\")"
   ]
  },
  {
   "cell_type": "code",
   "execution_count": null,
   "id": "0810d0d1-c148-453e-a1a1-8978c5d2075d",
   "metadata": {},
   "outputs": [],
   "source": [
    "g = reduce(gcd, unknown_counts.values())\n",
    "g"
   ]
  },
  {
   "cell_type": "code",
   "execution_count": null,
   "id": "9a49a46b-e2ad-4509-bb67-4affac3b6ce7",
   "metadata": {},
   "outputs": [],
   "source": [
    "unknown_counts"
   ]
  },
  {
   "cell_type": "code",
   "execution_count": null,
   "id": "f5da94d1-f051-487b-abb0-6a251e7743df",
   "metadata": {},
   "outputs": [],
   "source": [
    "result = []\n",
    "for face, count in unknown_counts.items():\n",
    "    result.extend([face] * (count // g))\n",
    "\n",
    "print(result)"
   ]
  },
  {
   "cell_type": "code",
   "execution_count": null,
   "id": "1163e7ee-4891-42b8-a267-4a8b6ba30095",
   "metadata": {},
   "outputs": [],
   "source": []
  },
  {
   "cell_type": "code",
   "execution_count": null,
   "id": "f04176cc-7cd5-4180-85e3-2f36d6a7facf",
   "metadata": {},
   "outputs": [],
   "source": []
  }
 ],
 "metadata": {
  "kernelspec": {
   "display_name": "Python 3 (ipykernel) *",
   "language": "python",
   "name": "conda-base-py"
  },
  "language_info": {
   "codemirror_mode": {
    "name": "ipython",
    "version": 3
   },
   "file_extension": ".py",
   "mimetype": "text/x-python",
   "name": "python",
   "nbconvert_exporter": "python",
   "pygments_lexer": "ipython3",
   "version": "3.12.10"
  }
 },
 "nbformat": 4,
 "nbformat_minor": 5
}
