{
 "cells": [
  {
   "cell_type": "code",
   "execution_count": 1,
   "id": "e3ad8056-2ff1-486a-aec7-698866b367a1",
   "metadata": {},
   "outputs": [],
   "source": [
    "import sys\n",
    "from collections import defaultdict"
   ]
  },
  {
   "cell_type": "code",
   "execution_count": 4,
   "id": "468ba101-5886-435e-a7be-7e1d4c80d798",
   "metadata": {},
   "outputs": [
    {
     "name": "stdin",
     "output_type": "stream",
     "text": [
      " 8\n"
     ]
    }
   ],
   "source": [
    "N = int(input())"
   ]
  },
  {
   "cell_type": "code",
   "execution_count": 8,
   "id": "9ea72bb5-9130-4fb8-b20a-c94213939efa",
   "metadata": {},
   "outputs": [
    {
     "name": "stdout",
     "output_type": "stream",
     "text": [
      "{}\n"
     ]
    },
    {
     "name": "stdin",
     "output_type": "stream",
     "text": [
      " DECLARE a 3\n"
     ]
    },
    {
     "ename": "KeyError",
     "evalue": "0",
     "output_type": "error",
     "traceback": [
      "\u001b[31m---------------------------------------------------------------------------\u001b[39m",
      "\u001b[31mKeyError\u001b[39m                                  Traceback (most recent call last)",
      "\u001b[36mCell\u001b[39m\u001b[36m \u001b[39m\u001b[32mIn[8]\u001b[39m\u001b[32m, line 18\u001b[39m\n\u001b[32m     16\u001b[39m \u001b[38;5;28;01mif\u001b[39;00m line[\u001b[32m0\u001b[39m] == \u001b[33m\"\u001b[39m\u001b[33mDECLARE\u001b[39m\u001b[33m\"\u001b[39m:\n\u001b[32m     17\u001b[39m     found = \u001b[38;5;28;01mFalse\u001b[39;00m\n\u001b[32m---> \u001b[39m\u001b[32m18\u001b[39m     \u001b[38;5;28;01mif\u001b[39;00m line[\u001b[32m1\u001b[39m] \u001b[38;5;129;01min\u001b[39;00m \u001b[43mdicks\u001b[49m\u001b[43m[\u001b[49m\u001b[43mnesting\u001b[49m\u001b[43m]\u001b[49m.keys():\n\u001b[32m     19\u001b[39m         \u001b[38;5;28mprint\u001b[39m(\u001b[33m\"\u001b[39m\u001b[33mMULTIPLE DECLARATION\u001b[39m\u001b[33m\"\u001b[39m)\n\u001b[32m     20\u001b[39m         \u001b[38;5;28;01mbreak\u001b[39;00m\n",
      "\u001b[31mKeyError\u001b[39m: 0"
     ]
    }
   ],
   "source": [
    "nesting = 0\n",
    "\n",
    "dicks = defaultdict(dict)\n",
    "\n",
    "for i in range(N):\n",
    "    # print(dicks)\n",
    "    # line = sys.stdin.readline().split()\n",
    "    line = input().split()\n",
    "    # print(line)\n",
    "    if line[0] == \"{\":\n",
    "        nesting += 1\n",
    "    if line[0] == \"}\":\n",
    "        \n",
    "        dicks[nesting] = {}\n",
    "        nesting -= 1\n",
    "        if nesting < 0:\n",
    "            nesting = 0\n",
    "    if line[0] == \"DECLARE\":\n",
    "        if line[1] in dicks[nesting]:\n",
    "            print(\"MULTIPLE DECLARATION\")\n",
    "            break\n",
    "        else:\n",
    "            dicks[nesting][line[1]] = line[2]\n",
    "    if line[0] == \"TYPEOF\":\n",
    "        found = False\n",
    "        for i in range(nesting, -1, -1):\n",
    "            if line[1] in dicks[i]:\n",
    "                print(dicks[i][line[1]])\n",
    "                found = True\n",
    "                break\n",
    "        if not found:\n",
    "            print(\"UNDECLARED\")"
   ]
  },
  {
   "cell_type": "code",
   "execution_count": null,
   "id": "fb2fcff1-51f8-4c5f-82a2-d2be0671d75f",
   "metadata": {},
   "outputs": [],
   "source": []
  },
  {
   "cell_type": "code",
   "execution_count": null,
   "id": "6caef93b-4eb1-4bad-8019-0979b9d71f53",
   "metadata": {},
   "outputs": [],
   "source": []
  }
 ],
 "metadata": {
  "kernelspec": {
   "display_name": "Python 3 (ipykernel) *",
   "language": "python",
   "name": "conda-base-py"
  },
  "language_info": {
   "codemirror_mode": {
    "name": "ipython",
    "version": 3
   },
   "file_extension": ".py",
   "mimetype": "text/x-python",
   "name": "python",
   "nbconvert_exporter": "python",
   "pygments_lexer": "ipython3",
   "version": "3.12.10"
  }
 },
 "nbformat": 4,
 "nbformat_minor": 5
}
